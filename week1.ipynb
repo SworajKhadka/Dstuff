{
 "cells": [
  {
   "cell_type": "code",
   "execution_count": 1,
   "id": "92df242d-d160-4950-882a-39bb41bb0955",
   "metadata": {},
   "outputs": [
    {
     "name": "stdout",
     "output_type": "stream",
     "text": [
      "Hello world\n"
     ]
    }
   ],
   "source": [
    "print(\"Hello world\")"
   ]
  },
  {
   "cell_type": "code",
   "execution_count": 2,
   "id": "faf40598-1858-449d-8762-61536b19311f",
   "metadata": {},
   "outputs": [
    {
     "data": {
      "text/plain": [
       "34"
      ]
     },
     "execution_count": 2,
     "metadata": {},
     "output_type": "execute_result"
    }
   ],
   "source": [
    "abs(-34)"
   ]
  },
  {
   "cell_type": "code",
   "execution_count": 3,
   "id": "d80aa3e5-aee9-4b98-b59c-56817352ba4a",
   "metadata": {},
   "outputs": [
    {
     "data": {
      "text/plain": [
       "-1.995200412208242"
      ]
     },
     "execution_count": 3,
     "metadata": {},
     "output_type": "execute_result"
    }
   ],
   "source": [
    "import math\n",
    "math.tan(90)"
   ]
  },
  {
   "cell_type": "code",
   "execution_count": 4,
   "id": "e79c06e9-8f6d-42db-8092-0a6ad7af4a14",
   "metadata": {},
   "outputs": [
    {
     "data": {
      "text/plain": [
       "3.605551275463989"
      ]
     },
     "execution_count": 4,
     "metadata": {},
     "output_type": "execute_result"
    }
   ],
   "source": [
    "math.sqrt(13)"
   ]
  },
  {
   "cell_type": "code",
   "execution_count": 5,
   "id": "3748ad7f-46b8-4639-98d5-a5b8e7e44f4a",
   "metadata": {},
   "outputs": [
    {
     "data": {
      "text/plain": [
       "(0.4499999999999993, 12.0)"
      ]
     },
     "execution_count": 5,
     "metadata": {},
     "output_type": "execute_result"
    }
   ],
   "source": [
    "math.modf(12.45)"
   ]
  },
  {
   "cell_type": "code",
   "execution_count": 6,
   "id": "3173df3c-756c-4721-b52a-07235a947201",
   "metadata": {},
   "outputs": [
    {
     "name": "stdin",
     "output_type": "stream",
     "text": [
      "enter a number 7\n",
      "enter next number 5\n",
      "enter last number 9\n"
     ]
    },
    {
     "name": "stdout",
     "output_type": "stream",
     "text": [
      "9\n"
     ]
    }
   ],
   "source": [
    "x=int(input(\"enter a number\"))\n",
    "y=int(input(\"enter next number\"))\n",
    "z=int(input(\"enter last number\"))\n",
    "print(max(x,y,z))"
   ]
  },
  {
   "cell_type": "code",
   "execution_count": 14,
   "id": "7e4207e8-e515-4ebf-9f4d-bfe866723076",
   "metadata": {},
   "outputs": [
    {
     "name": "stdin",
     "output_type": "stream",
     "text": [
      "enter the number 6\n"
     ]
    },
    {
     "name": "stdout",
     "output_type": "stream",
     "text": [
      "the number is composite\n"
     ]
    }
   ],
   "source": [
    "\n",
    "c=0\n",
    "x=int(input(\"enter the number\"))\n",
    "for i in range(1,x+1):\n",
    "    if x % i==0:\n",
    "        c=c+1\n",
    "if c==2:\n",
    "    print(\"The number is prime\")\n",
    "else:\n",
    "    print(\"the number is composite\")\n",
    "            \n",
    "    \n",
    "    \n"
   ]
  },
  {
   "cell_type": "code",
   "execution_count": 16,
   "id": "924fadc5-5912-4329-b397-3ea1176e7619",
   "metadata": {},
   "outputs": [],
   "source": [
    "lst=[1,2,3,4,5,6,\"hello\"]\n"
   ]
  },
  {
   "cell_type": "code",
   "execution_count": 17,
   "id": "a73bfd68-3ae0-4078-9f2c-e5f0c95d5baa",
   "metadata": {},
   "outputs": [],
   "source": [
    "lst.insert(3,3)"
   ]
  },
  {
   "cell_type": "code",
   "execution_count": 18,
   "id": "d08ce529-c2a0-4329-844f-c827233ba7cb",
   "metadata": {},
   "outputs": [
    {
     "data": {
      "text/plain": [
       "[1, 2, 3, 3, 4, 5, 6, 'hello']"
      ]
     },
     "execution_count": 18,
     "metadata": {},
     "output_type": "execute_result"
    }
   ],
   "source": [
    "lst"
   ]
  },
  {
   "cell_type": "code",
   "execution_count": 20,
   "id": "9dc219db-e2b7-433c-9cf4-79da6eae7875",
   "metadata": {},
   "outputs": [],
   "source": [
    "set_var={1,23,4,5}\n"
   ]
  },
  {
   "cell_type": "code",
   "execution_count": null,
   "id": "e97a23d0-51ff-4cd2-a790-eb5fb7b6a52a",
   "metadata": {},
   "outputs": [],
   "source": [
    "import numpy as np\n",
    "a=[1,2,3,4,5]\n",
    "b=[3,2,1,4,5]\n"
   ]
  },
  {
   "cell_type": "code",
   "execution_count": 4,
   "id": "b6da20a5-49c7-4ee3-8c93-7533319fd2f2",
   "metadata": {},
   "outputs": [],
   "source": [
    "dict={\"name\":\"sworaj\",\"age\":19}"
   ]
  },
  {
   "cell_type": "code",
   "execution_count": 5,
   "id": "08aea2c5-a8e1-45c4-adc1-a6403a4e86e5",
   "metadata": {},
   "outputs": [
    {
     "data": {
      "text/plain": [
       "dict"
      ]
     },
     "execution_count": 5,
     "metadata": {},
     "output_type": "execute_result"
    }
   ],
   "source": [
    "type(dict)"
   ]
  },
  {
   "cell_type": "code",
   "execution_count": 7,
   "id": "965e5355-7766-4df4-b69f-f1484b3af582",
   "metadata": {},
   "outputs": [
    {
     "data": {
      "text/plain": [
       "19"
      ]
     },
     "execution_count": 7,
     "metadata": {},
     "output_type": "execute_result"
    }
   ],
   "source": [
    "dict[\"age\"]"
   ]
  },
  {
   "cell_type": "code",
   "execution_count": 13,
   "id": "62244346-3cb4-4cb0-ad81-67eeaed1615b",
   "metadata": {},
   "outputs": [],
   "source": [
    "import pandas as pd\n",
    "import numpy as np\n",
    "\n",
    "df=pd.DataFrame(np.arange(0,16).reshape(4,4),index=[\"row1\",\"row2\",\"row3\",\"row4\"],columns=[\"col1\",\"col2\",\"col3\",\"col4\"])\n",
    "\n"
   ]
  },
  {
   "cell_type": "code",
   "execution_count": 14,
   "id": "7410f0d7-cb8f-4ca3-8202-34081985833b",
   "metadata": {},
   "outputs": [
    {
     "data": {
      "text/html": [
       "<div>\n",
       "<style scoped>\n",
       "    .dataframe tbody tr th:only-of-type {\n",
       "        vertical-align: middle;\n",
       "    }\n",
       "\n",
       "    .dataframe tbody tr th {\n",
       "        vertical-align: top;\n",
       "    }\n",
       "\n",
       "    .dataframe thead th {\n",
       "        text-align: right;\n",
       "    }\n",
       "</style>\n",
       "<table border=\"1\" class=\"dataframe\">\n",
       "  <thead>\n",
       "    <tr style=\"text-align: right;\">\n",
       "      <th></th>\n",
       "      <th>col1</th>\n",
       "      <th>col2</th>\n",
       "      <th>col3</th>\n",
       "      <th>col4</th>\n",
       "    </tr>\n",
       "  </thead>\n",
       "  <tbody>\n",
       "    <tr>\n",
       "      <th>row1</th>\n",
       "      <td>0</td>\n",
       "      <td>1</td>\n",
       "      <td>2</td>\n",
       "      <td>3</td>\n",
       "    </tr>\n",
       "    <tr>\n",
       "      <th>row2</th>\n",
       "      <td>4</td>\n",
       "      <td>5</td>\n",
       "      <td>6</td>\n",
       "      <td>7</td>\n",
       "    </tr>\n",
       "    <tr>\n",
       "      <th>row3</th>\n",
       "      <td>8</td>\n",
       "      <td>9</td>\n",
       "      <td>10</td>\n",
       "      <td>11</td>\n",
       "    </tr>\n",
       "    <tr>\n",
       "      <th>row4</th>\n",
       "      <td>12</td>\n",
       "      <td>13</td>\n",
       "      <td>14</td>\n",
       "      <td>15</td>\n",
       "    </tr>\n",
       "  </tbody>\n",
       "</table>\n",
       "</div>"
      ],
      "text/plain": [
       "      col1  col2  col3  col4\n",
       "row1     0     1     2     3\n",
       "row2     4     5     6     7\n",
       "row3     8     9    10    11\n",
       "row4    12    13    14    15"
      ]
     },
     "execution_count": 14,
     "metadata": {},
     "output_type": "execute_result"
    }
   ],
   "source": [
    "df"
   ]
  },
  {
   "cell_type": "code",
   "execution_count": 15,
   "id": "494902ea-36ff-414b-9f8a-7f92877c7d84",
   "metadata": {},
   "outputs": [
    {
     "data": {
      "text/html": [
       "<div>\n",
       "<style scoped>\n",
       "    .dataframe tbody tr th:only-of-type {\n",
       "        vertical-align: middle;\n",
       "    }\n",
       "\n",
       "    .dataframe tbody tr th {\n",
       "        vertical-align: top;\n",
       "    }\n",
       "\n",
       "    .dataframe thead th {\n",
       "        text-align: right;\n",
       "    }\n",
       "</style>\n",
       "<table border=\"1\" class=\"dataframe\">\n",
       "  <thead>\n",
       "    <tr style=\"text-align: right;\">\n",
       "      <th></th>\n",
       "      <th>col1</th>\n",
       "      <th>col2</th>\n",
       "      <th>col3</th>\n",
       "      <th>col4</th>\n",
       "    </tr>\n",
       "  </thead>\n",
       "  <tbody>\n",
       "    <tr>\n",
       "      <th>row1</th>\n",
       "      <td>0</td>\n",
       "      <td>1</td>\n",
       "      <td>2</td>\n",
       "      <td>3</td>\n",
       "    </tr>\n",
       "    <tr>\n",
       "      <th>row2</th>\n",
       "      <td>4</td>\n",
       "      <td>5</td>\n",
       "      <td>6</td>\n",
       "      <td>7</td>\n",
       "    </tr>\n",
       "    <tr>\n",
       "      <th>row3</th>\n",
       "      <td>8</td>\n",
       "      <td>9</td>\n",
       "      <td>10</td>\n",
       "      <td>11</td>\n",
       "    </tr>\n",
       "    <tr>\n",
       "      <th>row4</th>\n",
       "      <td>12</td>\n",
       "      <td>13</td>\n",
       "      <td>14</td>\n",
       "      <td>15</td>\n",
       "    </tr>\n",
       "  </tbody>\n",
       "</table>\n",
       "</div>"
      ],
      "text/plain": [
       "      col1  col2  col3  col4\n",
       "row1     0     1     2     3\n",
       "row2     4     5     6     7\n",
       "row3     8     9    10    11\n",
       "row4    12    13    14    15"
      ]
     },
     "execution_count": 15,
     "metadata": {},
     "output_type": "execute_result"
    }
   ],
   "source": [
    "df.head()"
   ]
  },
  {
   "cell_type": "code",
   "execution_count": 21,
   "id": "c242555a-dc08-4c71-b48e-8283e1c55639",
   "metadata": {},
   "outputs": [
    {
     "data": {
      "text/plain": [
       "pandas.core.series.Series"
      ]
     },
     "execution_count": 21,
     "metadata": {},
     "output_type": "execute_result"
    }
   ],
   "source": [
    "type(df[\"col2\"])"
   ]
  },
  {
   "cell_type": "code",
   "execution_count": 26,
   "id": "e8c45763-ccbf-4dfb-b77a-9e18971ef0b8",
   "metadata": {},
   "outputs": [
    {
     "data": {
      "text/html": [
       "<div>\n",
       "<style scoped>\n",
       "    .dataframe tbody tr th:only-of-type {\n",
       "        vertical-align: middle;\n",
       "    }\n",
       "\n",
       "    .dataframe tbody tr th {\n",
       "        vertical-align: top;\n",
       "    }\n",
       "\n",
       "    .dataframe thead th {\n",
       "        text-align: right;\n",
       "    }\n",
       "</style>\n",
       "<table border=\"1\" class=\"dataframe\">\n",
       "  <thead>\n",
       "    <tr style=\"text-align: right;\">\n",
       "      <th></th>\n",
       "      <th>col1</th>\n",
       "      <th>col2</th>\n",
       "      <th>col3</th>\n",
       "      <th>col4</th>\n",
       "    </tr>\n",
       "  </thead>\n",
       "  <tbody>\n",
       "    <tr>\n",
       "      <th>row1</th>\n",
       "      <td>0</td>\n",
       "      <td>1</td>\n",
       "      <td>2</td>\n",
       "      <td>3</td>\n",
       "    </tr>\n",
       "    <tr>\n",
       "      <th>row2</th>\n",
       "      <td>4</td>\n",
       "      <td>5</td>\n",
       "      <td>6</td>\n",
       "      <td>7</td>\n",
       "    </tr>\n",
       "  </tbody>\n",
       "</table>\n",
       "</div>"
      ],
      "text/plain": [
       "      col1  col2  col3  col4\n",
       "row1     0     1     2     3\n",
       "row2     4     5     6     7"
      ]
     },
     "execution_count": 26,
     "metadata": {},
     "output_type": "execute_result"
    }
   ],
   "source": [
    "df.loc[[\"row1\",\"row2\"]]"
   ]
  },
  {
   "cell_type": "code",
   "execution_count": 27,
   "id": "92dec978-7086-4f2e-8415-993c5cd3d65d",
   "metadata": {},
   "outputs": [
    {
     "data": {
      "text/html": [
       "<div>\n",
       "<style scoped>\n",
       "    .dataframe tbody tr th:only-of-type {\n",
       "        vertical-align: middle;\n",
       "    }\n",
       "\n",
       "    .dataframe tbody tr th {\n",
       "        vertical-align: top;\n",
       "    }\n",
       "\n",
       "    .dataframe thead th {\n",
       "        text-align: right;\n",
       "    }\n",
       "</style>\n",
       "<table border=\"1\" class=\"dataframe\">\n",
       "  <thead>\n",
       "    <tr style=\"text-align: right;\">\n",
       "      <th></th>\n",
       "      <th>col1</th>\n",
       "      <th>col2</th>\n",
       "    </tr>\n",
       "  </thead>\n",
       "  <tbody>\n",
       "    <tr>\n",
       "      <th>row1</th>\n",
       "      <td>0</td>\n",
       "      <td>1</td>\n",
       "    </tr>\n",
       "    <tr>\n",
       "      <th>row2</th>\n",
       "      <td>4</td>\n",
       "      <td>5</td>\n",
       "    </tr>\n",
       "  </tbody>\n",
       "</table>\n",
       "</div>"
      ],
      "text/plain": [
       "      col1  col2\n",
       "row1     0     1\n",
       "row2     4     5"
      ]
     },
     "execution_count": 27,
     "metadata": {},
     "output_type": "execute_result"
    }
   ],
   "source": [
    "df.iloc[0:2,0:2]"
   ]
  },
  {
   "cell_type": "code",
   "execution_count": 28,
   "id": "f0f5734a-5bc7-4742-a5cf-eb4af548c046",
   "metadata": {},
   "outputs": [
    {
     "data": {
      "text/plain": [
       "pandas.core.frame.DataFrame"
      ]
     },
     "execution_count": 28,
     "metadata": {},
     "output_type": "execute_result"
    }
   ],
   "source": [
    "type(df.iloc[0:2,0:2])"
   ]
  },
  {
   "cell_type": "code",
   "execution_count": 29,
   "id": "6b2644df-8d6f-4686-b710-4bb1511ba25a",
   "metadata": {},
   "outputs": [
    {
     "data": {
      "text/plain": [
       "col1    0\n",
       "col2    0\n",
       "col3    0\n",
       "col4    0\n",
       "dtype: int64"
      ]
     },
     "execution_count": 29,
     "metadata": {},
     "output_type": "execute_result"
    }
   ],
   "source": [
    "df.isnull().sum()"
   ]
  },
  {
   "cell_type": "code",
   "execution_count": 30,
   "id": "c986bc72-6f65-4160-8328-ab7be77b6ace",
   "metadata": {},
   "outputs": [
    {
     "data": {
      "text/plain": [
       "col1    True\n",
       "col2    True\n",
       "col3    True\n",
       "col4    True\n",
       "dtype: bool"
      ]
     },
     "execution_count": 30,
     "metadata": {},
     "output_type": "execute_result"
    }
   ],
   "source": [
    "df.isnull().sum()==0"
   ]
  },
  {
   "cell_type": "code",
   "execution_count": 32,
   "id": "1fbfd959-0cd9-4a48-85c9-eab1b7e5d1b4",
   "metadata": {},
   "outputs": [
    {
     "data": {
      "text/plain": [
       "array([0, 1, 2, 3])"
      ]
     },
     "execution_count": 32,
     "metadata": {},
     "output_type": "execute_result"
    }
   ],
   "source": [
    "df.loc[\"row1\"].unique()"
   ]
  },
  {
   "cell_type": "code",
   "execution_count": 38,
   "id": "1f43b424-75c7-4d73-a0e5-fb7dfbc58913",
   "metadata": {},
   "outputs": [],
   "source": [
    "import pandas as pd\n",
    "from io import StringIO\n"
   ]
  },
  {
   "cell_type": "code",
   "execution_count": 43,
   "id": "53aa4aaf-b52f-4a18-9505-9ed9400102ed",
   "metadata": {},
   "outputs": [],
   "source": [
    "data=('col1,col2,col3\\n'\n",
    "      'a,b,1\\n'\n",
    "      'c,d,2')\n",
    "      \n",
    "\n",
    "      "
   ]
  },
  {
   "cell_type": "code",
   "execution_count": 44,
   "id": "00381d35-4bc9-4b0c-a920-eede3d3095f6",
   "metadata": {},
   "outputs": [
    {
     "data": {
      "text/plain": [
       "str"
      ]
     },
     "execution_count": 44,
     "metadata": {},
     "output_type": "execute_result"
    }
   ],
   "source": [
    "type(data)"
   ]
  },
  {
   "cell_type": "code",
   "execution_count": 45,
   "id": "32017dc6-1cc8-44e1-95aa-4a9e13bc44d3",
   "metadata": {},
   "outputs": [
    {
     "data": {
      "text/plain": [
       "<_io.StringIO at 0x2223d83fb50>"
      ]
     },
     "execution_count": 45,
     "metadata": {},
     "output_type": "execute_result"
    }
   ],
   "source": [
    "#in memory file format  objects\n",
    "StringIO(data)"
   ]
  },
  {
   "cell_type": "code",
   "execution_count": 49,
   "id": "b211277a-4f33-4f70-9168-2c857cd3727e",
   "metadata": {},
   "outputs": [
    {
     "data": {
      "text/html": [
       "<div>\n",
       "<style scoped>\n",
       "    .dataframe tbody tr th:only-of-type {\n",
       "        vertical-align: middle;\n",
       "    }\n",
       "\n",
       "    .dataframe tbody tr th {\n",
       "        vertical-align: top;\n",
       "    }\n",
       "\n",
       "    .dataframe thead th {\n",
       "        text-align: right;\n",
       "    }\n",
       "</style>\n",
       "<table border=\"1\" class=\"dataframe\">\n",
       "  <thead>\n",
       "    <tr style=\"text-align: right;\">\n",
       "      <th></th>\n",
       "      <th>col1</th>\n",
       "      <th>col2</th>\n",
       "      <th>col3</th>\n",
       "    </tr>\n",
       "  </thead>\n",
       "  <tbody>\n",
       "    <tr>\n",
       "      <th>0</th>\n",
       "      <td>a</td>\n",
       "      <td>b</td>\n",
       "      <td>1</td>\n",
       "    </tr>\n",
       "    <tr>\n",
       "      <th>1</th>\n",
       "      <td>c</td>\n",
       "      <td>d</td>\n",
       "      <td>2</td>\n",
       "    </tr>\n",
       "  </tbody>\n",
       "</table>\n",
       "</div>"
      ],
      "text/plain": [
       "  col1 col2  col3\n",
       "0    a    b     1\n",
       "1    c    d     2"
      ]
     },
     "execution_count": 49,
     "metadata": {},
     "output_type": "execute_result"
    }
   ],
   "source": [
    "df=pd.read_csv(StringIO(data))\n",
    "df"
   ]
  },
  {
   "cell_type": "code",
   "execution_count": 50,
   "id": "9ec795a9-6294-403d-b926-2297b96a0420",
   "metadata": {},
   "outputs": [
    {
     "data": {
      "text/html": [
       "<div>\n",
       "<style scoped>\n",
       "    .dataframe tbody tr th:only-of-type {\n",
       "        vertical-align: middle;\n",
       "    }\n",
       "\n",
       "    .dataframe tbody tr th {\n",
       "        vertical-align: top;\n",
       "    }\n",
       "\n",
       "    .dataframe thead th {\n",
       "        text-align: right;\n",
       "    }\n",
       "</style>\n",
       "<table border=\"1\" class=\"dataframe\">\n",
       "  <thead>\n",
       "    <tr style=\"text-align: right;\">\n",
       "      <th></th>\n",
       "      <th>col1</th>\n",
       "      <th>col2</th>\n",
       "    </tr>\n",
       "  </thead>\n",
       "  <tbody>\n",
       "    <tr>\n",
       "      <th>0</th>\n",
       "      <td>a</td>\n",
       "      <td>b</td>\n",
       "    </tr>\n",
       "    <tr>\n",
       "      <th>1</th>\n",
       "      <td>c</td>\n",
       "      <td>d</td>\n",
       "    </tr>\n",
       "  </tbody>\n",
       "</table>\n",
       "</div>"
      ],
      "text/plain": [
       "  col1 col2\n",
       "0    a    b\n",
       "1    c    d"
      ]
     },
     "execution_count": 50,
     "metadata": {},
     "output_type": "execute_result"
    }
   ],
   "source": [
    "pd.read_csv(StringIO(data),usecols=['col1','col2'])"
   ]
  },
  {
   "cell_type": "code",
   "execution_count": 60,
   "id": "e68bc7c9-213d-458a-90e8-70b756665686",
   "metadata": {},
   "outputs": [],
   "source": [
    "data=('col1,col2,col3,col4\\n'\n",
    "      '1,2,3,1\\n'\n",
    "      '4,5,6,2\\n'\n",
    "      '7,8,9')\n",
    "      "
   ]
  },
  {
   "cell_type": "code",
   "execution_count": 61,
   "id": "256bedb9-c946-4e99-b1ac-532507d98679",
   "metadata": {},
   "outputs": [],
   "source": [
    "df=pd.read_csv(StringIO(data))"
   ]
  },
  {
   "cell_type": "code",
   "execution_count": 62,
   "id": "750b6996-1b25-42ac-8a23-b0076bcd72fb",
   "metadata": {},
   "outputs": [
    {
     "data": {
      "text/html": [
       "<div>\n",
       "<style scoped>\n",
       "    .dataframe tbody tr th:only-of-type {\n",
       "        vertical-align: middle;\n",
       "    }\n",
       "\n",
       "    .dataframe tbody tr th {\n",
       "        vertical-align: top;\n",
       "    }\n",
       "\n",
       "    .dataframe thead th {\n",
       "        text-align: right;\n",
       "    }\n",
       "</style>\n",
       "<table border=\"1\" class=\"dataframe\">\n",
       "  <thead>\n",
       "    <tr style=\"text-align: right;\">\n",
       "      <th></th>\n",
       "      <th>col1</th>\n",
       "      <th>col2</th>\n",
       "      <th>col3</th>\n",
       "      <th>col4</th>\n",
       "    </tr>\n",
       "  </thead>\n",
       "  <tbody>\n",
       "    <tr>\n",
       "      <th>0</th>\n",
       "      <td>1</td>\n",
       "      <td>2</td>\n",
       "      <td>3</td>\n",
       "      <td>1.0</td>\n",
       "    </tr>\n",
       "    <tr>\n",
       "      <th>1</th>\n",
       "      <td>4</td>\n",
       "      <td>5</td>\n",
       "      <td>6</td>\n",
       "      <td>2.0</td>\n",
       "    </tr>\n",
       "    <tr>\n",
       "      <th>2</th>\n",
       "      <td>7</td>\n",
       "      <td>8</td>\n",
       "      <td>9</td>\n",
       "      <td>NaN</td>\n",
       "    </tr>\n",
       "  </tbody>\n",
       "</table>\n",
       "</div>"
      ],
      "text/plain": [
       "   col1  col2  col3  col4\n",
       "0     1     2     3   1.0\n",
       "1     4     5     6   2.0\n",
       "2     7     8     9   NaN"
      ]
     },
     "execution_count": 62,
     "metadata": {},
     "output_type": "execute_result"
    }
   ],
   "source": [
    "df"
   ]
  },
  {
   "cell_type": "code",
   "execution_count": 63,
   "id": "73073b78-6b66-4461-8aa7-54f0e55f7fe3",
   "metadata": {},
   "outputs": [
    {
     "name": "stdout",
     "output_type": "stream",
     "text": [
      "<class 'pandas.core.frame.DataFrame'>\n",
      "RangeIndex: 3 entries, 0 to 2\n",
      "Data columns (total 4 columns):\n",
      " #   Column  Non-Null Count  Dtype  \n",
      "---  ------  --------------  -----  \n",
      " 0   col1    3 non-null      int64  \n",
      " 1   col2    3 non-null      int64  \n",
      " 2   col3    3 non-null      int64  \n",
      " 3   col4    2 non-null      float64\n",
      "dtypes: float64(1), int64(3)\n",
      "memory usage: 228.0 bytes\n"
     ]
    }
   ],
   "source": [
    "df.info()"
   ]
  },
  {
   "cell_type": "code",
   "execution_count": 64,
   "id": "2f78c502-6f45-40cb-8897-d2beab68154a",
   "metadata": {},
   "outputs": [],
   "source": [
    "df=pd.read_csv(StringIO(data),dtype={'col1':int,'col2':float,'col3':int})"
   ]
  },
  {
   "cell_type": "code",
   "execution_count": 65,
   "id": "47640527-3f18-44fd-9483-ca1148d29057",
   "metadata": {},
   "outputs": [
    {
     "data": {
      "text/html": [
       "<div>\n",
       "<style scoped>\n",
       "    .dataframe tbody tr th:only-of-type {\n",
       "        vertical-align: middle;\n",
       "    }\n",
       "\n",
       "    .dataframe tbody tr th {\n",
       "        vertical-align: top;\n",
       "    }\n",
       "\n",
       "    .dataframe thead th {\n",
       "        text-align: right;\n",
       "    }\n",
       "</style>\n",
       "<table border=\"1\" class=\"dataframe\">\n",
       "  <thead>\n",
       "    <tr style=\"text-align: right;\">\n",
       "      <th></th>\n",
       "      <th>col1</th>\n",
       "      <th>col2</th>\n",
       "      <th>col3</th>\n",
       "      <th>col4</th>\n",
       "    </tr>\n",
       "  </thead>\n",
       "  <tbody>\n",
       "    <tr>\n",
       "      <th>0</th>\n",
       "      <td>1</td>\n",
       "      <td>2.0</td>\n",
       "      <td>3</td>\n",
       "      <td>1.0</td>\n",
       "    </tr>\n",
       "    <tr>\n",
       "      <th>1</th>\n",
       "      <td>4</td>\n",
       "      <td>5.0</td>\n",
       "      <td>6</td>\n",
       "      <td>2.0</td>\n",
       "    </tr>\n",
       "    <tr>\n",
       "      <th>2</th>\n",
       "      <td>7</td>\n",
       "      <td>8.0</td>\n",
       "      <td>9</td>\n",
       "      <td>NaN</td>\n",
       "    </tr>\n",
       "  </tbody>\n",
       "</table>\n",
       "</div>"
      ],
      "text/plain": [
       "   col1  col2  col3  col4\n",
       "0     1   2.0     3   1.0\n",
       "1     4   5.0     6   2.0\n",
       "2     7   8.0     9   NaN"
      ]
     },
     "execution_count": 65,
     "metadata": {},
     "output_type": "execute_result"
    }
   ],
   "source": [
    "df"
   ]
  },
  {
   "cell_type": "code",
   "execution_count": 66,
   "id": "6c0f855c-7256-40c1-96e1-64a99f47044d",
   "metadata": {},
   "outputs": [
    {
     "name": "stdout",
     "output_type": "stream",
     "text": [
      "<class 'pandas.core.frame.DataFrame'>\n",
      "RangeIndex: 3 entries, 0 to 2\n",
      "Data columns (total 4 columns):\n",
      " #   Column  Non-Null Count  Dtype  \n",
      "---  ------  --------------  -----  \n",
      " 0   col1    3 non-null      int32  \n",
      " 1   col2    3 non-null      float64\n",
      " 2   col3    3 non-null      int32  \n",
      " 3   col4    2 non-null      float64\n",
      "dtypes: float64(2), int32(2)\n",
      "memory usage: 204.0 bytes\n"
     ]
    }
   ],
   "source": [
    "df.info()"
   ]
  },
  {
   "cell_type": "code",
   "execution_count": 80,
   "id": "6334d632-ee06-4fd1-bdf7-90ef79786c98",
   "metadata": {},
   "outputs": [],
   "source": [
    "data='{\"name\":\"swosexy\",\"email\":\"swodawg@gmail\",\"job\":[{\"title1\":\"lead\",\"title2\":\"senior dev\"}]}'"
   ]
  },
  {
   "cell_type": "code",
   "execution_count": 81,
   "id": "7a342356-8e63-4b3b-8243-612ac707142c",
   "metadata": {},
   "outputs": [
    {
     "data": {
      "text/plain": [
       "str"
      ]
     },
     "execution_count": 81,
     "metadata": {},
     "output_type": "execute_result"
    }
   ],
   "source": [
    "type(data)"
   ]
  },
  {
   "cell_type": "code",
   "execution_count": 82,
   "id": "c3af7cf9-ef5f-4d27-ba76-51f0ce1ee112",
   "metadata": {},
   "outputs": [
    {
     "name": "stderr",
     "output_type": "stream",
     "text": [
      "C:\\Users\\swora\\AppData\\Local\\Temp\\ipykernel_33556\\1661395064.py:1: FutureWarning: Passing literal json to 'read_json' is deprecated and will be removed in a future version. To read from a literal string, wrap it in a 'StringIO' object.\n",
      "  pd.read_json(data)\n"
     ]
    },
    {
     "data": {
      "text/html": [
       "<div>\n",
       "<style scoped>\n",
       "    .dataframe tbody tr th:only-of-type {\n",
       "        vertical-align: middle;\n",
       "    }\n",
       "\n",
       "    .dataframe tbody tr th {\n",
       "        vertical-align: top;\n",
       "    }\n",
       "\n",
       "    .dataframe thead th {\n",
       "        text-align: right;\n",
       "    }\n",
       "</style>\n",
       "<table border=\"1\" class=\"dataframe\">\n",
       "  <thead>\n",
       "    <tr style=\"text-align: right;\">\n",
       "      <th></th>\n",
       "      <th>name</th>\n",
       "      <th>email</th>\n",
       "      <th>job</th>\n",
       "    </tr>\n",
       "  </thead>\n",
       "  <tbody>\n",
       "    <tr>\n",
       "      <th>0</th>\n",
       "      <td>swosexy</td>\n",
       "      <td>swodawg@gmail</td>\n",
       "      <td>{'title1': 'lead', 'title2': 'senior dev'}</td>\n",
       "    </tr>\n",
       "  </tbody>\n",
       "</table>\n",
       "</div>"
      ],
      "text/plain": [
       "      name          email                                         job\n",
       "0  swosexy  swodawg@gmail  {'title1': 'lead', 'title2': 'senior dev'}"
      ]
     },
     "execution_count": 82,
     "metadata": {},
     "output_type": "execute_result"
    }
   ],
   "source": [
    "pd.read_json(data)"
   ]
  },
  {
   "cell_type": "code",
   "execution_count": 88,
   "id": "604e4237-e5d2-4ff0-b344-6c0d7af07e22",
   "metadata": {},
   "outputs": [],
   "source": [
    "data=[{\"name\":\"swosexy\",\"email\":\"swodawg@gmail\",\"job\":{\"title1\":\"lead\",\"title2\":\"senior dev\"}}]"
   ]
  },
  {
   "cell_type": "code",
   "execution_count": 89,
   "id": "6cc31750-790d-4f59-8d8b-2e7d61553a4e",
   "metadata": {},
   "outputs": [
    {
     "data": {
      "text/html": [
       "<div>\n",
       "<style scoped>\n",
       "    .dataframe tbody tr th:only-of-type {\n",
       "        vertical-align: middle;\n",
       "    }\n",
       "\n",
       "    .dataframe tbody tr th {\n",
       "        vertical-align: top;\n",
       "    }\n",
       "\n",
       "    .dataframe thead th {\n",
       "        text-align: right;\n",
       "    }\n",
       "</style>\n",
       "<table border=\"1\" class=\"dataframe\">\n",
       "  <thead>\n",
       "    <tr style=\"text-align: right;\">\n",
       "      <th></th>\n",
       "      <th>name</th>\n",
       "      <th>email</th>\n",
       "      <th>job.title1</th>\n",
       "      <th>job.title2</th>\n",
       "    </tr>\n",
       "  </thead>\n",
       "  <tbody>\n",
       "    <tr>\n",
       "      <th>0</th>\n",
       "      <td>swosexy</td>\n",
       "      <td>swodawg@gmail</td>\n",
       "      <td>lead</td>\n",
       "      <td>senior dev</td>\n",
       "    </tr>\n",
       "  </tbody>\n",
       "</table>\n",
       "</div>"
      ],
      "text/plain": [
       "      name          email job.title1  job.title2\n",
       "0  swosexy  swodawg@gmail       lead  senior dev"
      ]
     },
     "execution_count": 89,
     "metadata": {},
     "output_type": "execute_result"
    }
   ],
   "source": [
    "pd.json_normalize(data)"
   ]
  },
  {
   "cell_type": "markdown",
   "id": "83f5635c-f68d-4967-a500-3860f851052b",
   "metadata": {},
   "source": [
    "# pandas with html\n"
   ]
  },
  {
   "cell_type": "code",
   "execution_count": 90,
   "id": "2e797182-a8bd-46f5-ae45-d2bc3611d1d1",
   "metadata": {},
   "outputs": [],
   "source": [
    "import pandas as pd"
   ]
  },
  {
   "cell_type": "code",
   "execution_count": 101,
   "id": "c204d57b-e2cd-4ca4-aa3f-81a3a79192cb",
   "metadata": {},
   "outputs": [],
   "source": [
    "ucl=pd.read_html(\"https://en.wikipedia.org/wiki/List_of_European_Cup_and_UEFA_Champions_League_finals\",match=\"List of European Cup and UEFA Champions League finals\")"
   ]
  },
  {
   "cell_type": "code",
   "execution_count": 102,
   "id": "988502c0-9fc2-4386-8c8a-187c815e724c",
   "metadata": {},
   "outputs": [
    {
     "data": {
      "text/plain": [
       "[                                        0  \\\n",
       " 0  European Cup / Champions League trophy   \n",
       " 1                                 Founded   \n",
       " 2                                  Region   \n",
       " 3                         Number of teams   \n",
       " 4                       Current champions   \n",
       " 5                 Most successful club(s)   \n",
       " 6        2024 UEFA Champions League final   \n",
       " \n",
       "                                         1  \n",
       " 0  European Cup / Champions League trophy  \n",
       " 1                                    1955  \n",
       " 2                           UEFA (Europe)  \n",
       " 3         36 (league stage) 2 (finalists)  \n",
       " 4               Real Madrid  (15th title)  \n",
       " 5                 Real Madrid (15 titles)  \n",
       " 6        2024 UEFA Champions League final  ,\n",
       "              Season          Country          Winners            Score  \\\n",
       " 0           1955–56            Spain      Real Madrid              4–3   \n",
       " 1           1956–57            Spain      Real Madrid              2–0   \n",
       " 2           1957–58            Spain      Real Madrid             3–2†   \n",
       " 3           1958–59            Spain      Real Madrid              2–0   \n",
       " 4           1959–60            Spain      Real Madrid              7–3   \n",
       " ..              ...              ...              ...              ...   \n",
       " 69          2023–24            Spain      Real Madrid              2–0   \n",
       " 70  Upcoming finals  Upcoming finals  Upcoming finals  Upcoming finals   \n",
       " 71           Season          Country         Finalist            Match   \n",
       " 72          2024–25              NaN              NaN                v   \n",
       " 73          2025–26              NaN              NaN                v   \n",
       " \n",
       "              Runners-up        Country.1  \\\n",
       " 0                 Reims           France   \n",
       " 1            Fiorentina            Italy   \n",
       " 2                 Milan            Italy   \n",
       " 3                 Reims           France   \n",
       " 4   Eintracht Frankfurt     West Germany   \n",
       " ..                  ...              ...   \n",
       " 69    Borussia Dortmund          Germany   \n",
       " 70      Upcoming finals  Upcoming finals   \n",
       " 71             Finalist          Country   \n",
       " 72                  NaN              NaN   \n",
       " 73                  NaN              NaN   \n",
       " \n",
       "                                      Venue                  Attend­ance[15]  \n",
       " 0          Parc des Princes, Paris, France                            38239  \n",
       " 1         Santiago Bernabéu, Madrid, Spain                           124000  \n",
       " 2        Heysel Stadium, Brussels, Belgium                            67000  \n",
       " 3   Neckarstadion, Stuttgart, West Germany                            72000  \n",
       " 4          Hampden Park, Glasgow, Scotland                           127621  \n",
       " ..                                     ...                              ...  \n",
       " 69        Wembley Stadium, London, England                            86212  \n",
       " 70                         Upcoming finals                  Upcoming finals  \n",
       " 71                                   Venue                            Venue  \n",
       " 72          Allianz Arena, Munich, Germany   Allianz Arena, Munich, Germany  \n",
       " 73         Puskás Aréna, Budapest, Hungary  Puskás Aréna, Budapest, Hungary  \n",
       " \n",
       " [74 rows x 8 columns]]"
      ]
     },
     "execution_count": 102,
     "metadata": {},
     "output_type": "execute_result"
    }
   ],
   "source": [
    "ucl"
   ]
  },
  {
   "cell_type": "code",
   "execution_count": 96,
   "id": "58165437-8c30-4039-b93c-d722c8c0e353",
   "metadata": {},
   "outputs": [
    {
     "data": {
      "text/html": [
       "<div>\n",
       "<style scoped>\n",
       "    .dataframe tbody tr th:only-of-type {\n",
       "        vertical-align: middle;\n",
       "    }\n",
       "\n",
       "    .dataframe tbody tr th {\n",
       "        vertical-align: top;\n",
       "    }\n",
       "\n",
       "    .dataframe thead th {\n",
       "        text-align: right;\n",
       "    }\n",
       "</style>\n",
       "<table border=\"1\" class=\"dataframe\">\n",
       "  <thead>\n",
       "    <tr style=\"text-align: right;\">\n",
       "      <th></th>\n",
       "      <th>Season</th>\n",
       "      <th>Country</th>\n",
       "      <th>Winners</th>\n",
       "      <th>Score</th>\n",
       "      <th>Runners-up</th>\n",
       "      <th>Country.1</th>\n",
       "      <th>Venue</th>\n",
       "      <th>Attend­ance[15]</th>\n",
       "    </tr>\n",
       "  </thead>\n",
       "  <tbody>\n",
       "    <tr>\n",
       "      <th>0</th>\n",
       "      <td>1955–56</td>\n",
       "      <td>Spain</td>\n",
       "      <td>Real Madrid</td>\n",
       "      <td>4–3</td>\n",
       "      <td>Reims</td>\n",
       "      <td>France</td>\n",
       "      <td>Parc des Princes, Paris, France</td>\n",
       "      <td>38239</td>\n",
       "    </tr>\n",
       "    <tr>\n",
       "      <th>1</th>\n",
       "      <td>1956–57</td>\n",
       "      <td>Spain</td>\n",
       "      <td>Real Madrid</td>\n",
       "      <td>2–0</td>\n",
       "      <td>Fiorentina</td>\n",
       "      <td>Italy</td>\n",
       "      <td>Santiago Bernabéu, Madrid, Spain</td>\n",
       "      <td>124000</td>\n",
       "    </tr>\n",
       "    <tr>\n",
       "      <th>2</th>\n",
       "      <td>1957–58</td>\n",
       "      <td>Spain</td>\n",
       "      <td>Real Madrid</td>\n",
       "      <td>3–2†</td>\n",
       "      <td>Milan</td>\n",
       "      <td>Italy</td>\n",
       "      <td>Heysel Stadium, Brussels, Belgium</td>\n",
       "      <td>67000</td>\n",
       "    </tr>\n",
       "    <tr>\n",
       "      <th>3</th>\n",
       "      <td>1958–59</td>\n",
       "      <td>Spain</td>\n",
       "      <td>Real Madrid</td>\n",
       "      <td>2–0</td>\n",
       "      <td>Reims</td>\n",
       "      <td>France</td>\n",
       "      <td>Neckarstadion, Stuttgart, West Germany</td>\n",
       "      <td>72000</td>\n",
       "    </tr>\n",
       "    <tr>\n",
       "      <th>4</th>\n",
       "      <td>1959–60</td>\n",
       "      <td>Spain</td>\n",
       "      <td>Real Madrid</td>\n",
       "      <td>7–3</td>\n",
       "      <td>Eintracht Frankfurt</td>\n",
       "      <td>West Germany</td>\n",
       "      <td>Hampden Park, Glasgow, Scotland</td>\n",
       "      <td>127621</td>\n",
       "    </tr>\n",
       "    <tr>\n",
       "      <th>...</th>\n",
       "      <td>...</td>\n",
       "      <td>...</td>\n",
       "      <td>...</td>\n",
       "      <td>...</td>\n",
       "      <td>...</td>\n",
       "      <td>...</td>\n",
       "      <td>...</td>\n",
       "      <td>...</td>\n",
       "    </tr>\n",
       "    <tr>\n",
       "      <th>69</th>\n",
       "      <td>2023–24</td>\n",
       "      <td>Spain</td>\n",
       "      <td>Real Madrid</td>\n",
       "      <td>2–0</td>\n",
       "      <td>Borussia Dortmund</td>\n",
       "      <td>Germany</td>\n",
       "      <td>Wembley Stadium, London, England</td>\n",
       "      <td>86212</td>\n",
       "    </tr>\n",
       "    <tr>\n",
       "      <th>70</th>\n",
       "      <td>Upcoming finals</td>\n",
       "      <td>Upcoming finals</td>\n",
       "      <td>Upcoming finals</td>\n",
       "      <td>Upcoming finals</td>\n",
       "      <td>Upcoming finals</td>\n",
       "      <td>Upcoming finals</td>\n",
       "      <td>Upcoming finals</td>\n",
       "      <td>Upcoming finals</td>\n",
       "    </tr>\n",
       "    <tr>\n",
       "      <th>71</th>\n",
       "      <td>Season</td>\n",
       "      <td>Country</td>\n",
       "      <td>Finalist</td>\n",
       "      <td>Match</td>\n",
       "      <td>Finalist</td>\n",
       "      <td>Country</td>\n",
       "      <td>Venue</td>\n",
       "      <td>Venue</td>\n",
       "    </tr>\n",
       "    <tr>\n",
       "      <th>72</th>\n",
       "      <td>2024–25</td>\n",
       "      <td>NaN</td>\n",
       "      <td>NaN</td>\n",
       "      <td>v</td>\n",
       "      <td>NaN</td>\n",
       "      <td>NaN</td>\n",
       "      <td>Allianz Arena, Munich, Germany</td>\n",
       "      <td>Allianz Arena, Munich, Germany</td>\n",
       "    </tr>\n",
       "    <tr>\n",
       "      <th>73</th>\n",
       "      <td>2025–26</td>\n",
       "      <td>NaN</td>\n",
       "      <td>NaN</td>\n",
       "      <td>v</td>\n",
       "      <td>NaN</td>\n",
       "      <td>NaN</td>\n",
       "      <td>Puskás Aréna, Budapest, Hungary</td>\n",
       "      <td>Puskás Aréna, Budapest, Hungary</td>\n",
       "    </tr>\n",
       "  </tbody>\n",
       "</table>\n",
       "<p>74 rows × 8 columns</p>\n",
       "</div>"
      ],
      "text/plain": [
       "             Season          Country          Winners            Score  \\\n",
       "0           1955–56            Spain      Real Madrid              4–3   \n",
       "1           1956–57            Spain      Real Madrid              2–0   \n",
       "2           1957–58            Spain      Real Madrid             3–2†   \n",
       "3           1958–59            Spain      Real Madrid              2–0   \n",
       "4           1959–60            Spain      Real Madrid              7–3   \n",
       "..              ...              ...              ...              ...   \n",
       "69          2023–24            Spain      Real Madrid              2–0   \n",
       "70  Upcoming finals  Upcoming finals  Upcoming finals  Upcoming finals   \n",
       "71           Season          Country         Finalist            Match   \n",
       "72          2024–25              NaN              NaN                v   \n",
       "73          2025–26              NaN              NaN                v   \n",
       "\n",
       "             Runners-up        Country.1  \\\n",
       "0                 Reims           France   \n",
       "1            Fiorentina            Italy   \n",
       "2                 Milan            Italy   \n",
       "3                 Reims           France   \n",
       "4   Eintracht Frankfurt     West Germany   \n",
       "..                  ...              ...   \n",
       "69    Borussia Dortmund          Germany   \n",
       "70      Upcoming finals  Upcoming finals   \n",
       "71             Finalist          Country   \n",
       "72                  NaN              NaN   \n",
       "73                  NaN              NaN   \n",
       "\n",
       "                                     Venue                  Attend­ance[15]  \n",
       "0          Parc des Princes, Paris, France                            38239  \n",
       "1         Santiago Bernabéu, Madrid, Spain                           124000  \n",
       "2        Heysel Stadium, Brussels, Belgium                            67000  \n",
       "3   Neckarstadion, Stuttgart, West Germany                            72000  \n",
       "4          Hampden Park, Glasgow, Scotland                           127621  \n",
       "..                                     ...                              ...  \n",
       "69        Wembley Stadium, London, England                            86212  \n",
       "70                         Upcoming finals                  Upcoming finals  \n",
       "71                                   Venue                            Venue  \n",
       "72          Allianz Arena, Munich, Germany   Allianz Arena, Munich, Germany  \n",
       "73         Puskás Aréna, Budapest, Hungary  Puskás Aréna, Budapest, Hungary  \n",
       "\n",
       "[74 rows x 8 columns]"
      ]
     },
     "execution_count": 96,
     "metadata": {},
     "output_type": "execute_result"
    }
   ],
   "source": [
    "ucl[2]"
   ]
  },
  {
   "cell_type": "code",
   "execution_count": 100,
   "id": "02274e96-179e-4aac-b0da-fc63273c12f7",
   "metadata": {},
   "outputs": [],
   "source": [
    "ucl[2].to_html('demo.html')"
   ]
  },
  {
   "cell_type": "markdown",
   "id": "5e385fe0-03e3-4f61-aeab-19b92101ac3f",
   "metadata": {},
   "source": [
    "# Pandas working with XML"
   ]
  },
  {
   "cell_type": "code",
   "execution_count": 104,
   "id": "9898daf7-b891-4873-a91c-a544c0c3234f",
   "metadata": {},
   "outputs": [],
   "source": [
    "import pandas as pd\n",
    "xml=pd.read_xml(\"https://www.w3schools.com/xml/simple.xml\")"
   ]
  },
  {
   "cell_type": "code",
   "execution_count": 105,
   "id": "1f61e2b3-db38-4bed-b971-253bdd49e18d",
   "metadata": {},
   "outputs": [
    {
     "data": {
      "text/html": [
       "<div>\n",
       "<style scoped>\n",
       "    .dataframe tbody tr th:only-of-type {\n",
       "        vertical-align: middle;\n",
       "    }\n",
       "\n",
       "    .dataframe tbody tr th {\n",
       "        vertical-align: top;\n",
       "    }\n",
       "\n",
       "    .dataframe thead th {\n",
       "        text-align: right;\n",
       "    }\n",
       "</style>\n",
       "<table border=\"1\" class=\"dataframe\">\n",
       "  <thead>\n",
       "    <tr style=\"text-align: right;\">\n",
       "      <th></th>\n",
       "      <th>name</th>\n",
       "      <th>price</th>\n",
       "      <th>description</th>\n",
       "      <th>calories</th>\n",
       "    </tr>\n",
       "  </thead>\n",
       "  <tbody>\n",
       "    <tr>\n",
       "      <th>0</th>\n",
       "      <td>Belgian Waffles</td>\n",
       "      <td>$5.95</td>\n",
       "      <td>Two of our famous Belgian Waffles with plenty ...</td>\n",
       "      <td>650</td>\n",
       "    </tr>\n",
       "    <tr>\n",
       "      <th>1</th>\n",
       "      <td>Strawberry Belgian Waffles</td>\n",
       "      <td>$7.95</td>\n",
       "      <td>Light Belgian waffles covered with strawberrie...</td>\n",
       "      <td>900</td>\n",
       "    </tr>\n",
       "    <tr>\n",
       "      <th>2</th>\n",
       "      <td>Berry-Berry Belgian Waffles</td>\n",
       "      <td>$8.95</td>\n",
       "      <td>Light Belgian waffles covered with an assortme...</td>\n",
       "      <td>900</td>\n",
       "    </tr>\n",
       "    <tr>\n",
       "      <th>3</th>\n",
       "      <td>French Toast</td>\n",
       "      <td>$4.50</td>\n",
       "      <td>Thick slices made from our homemade sourdough ...</td>\n",
       "      <td>600</td>\n",
       "    </tr>\n",
       "    <tr>\n",
       "      <th>4</th>\n",
       "      <td>Homestyle Breakfast</td>\n",
       "      <td>$6.95</td>\n",
       "      <td>Two eggs, bacon or sausage, toast, and our eve...</td>\n",
       "      <td>950</td>\n",
       "    </tr>\n",
       "  </tbody>\n",
       "</table>\n",
       "</div>"
      ],
      "text/plain": [
       "                          name  price  \\\n",
       "0              Belgian Waffles  $5.95   \n",
       "1   Strawberry Belgian Waffles  $7.95   \n",
       "2  Berry-Berry Belgian Waffles  $8.95   \n",
       "3                 French Toast  $4.50   \n",
       "4          Homestyle Breakfast  $6.95   \n",
       "\n",
       "                                         description  calories  \n",
       "0  Two of our famous Belgian Waffles with plenty ...       650  \n",
       "1  Light Belgian waffles covered with strawberrie...       900  \n",
       "2  Light Belgian waffles covered with an assortme...       900  \n",
       "3  Thick slices made from our homemade sourdough ...       600  \n",
       "4  Two eggs, bacon or sausage, toast, and our eve...       950  "
      ]
     },
     "execution_count": 105,
     "metadata": {},
     "output_type": "execute_result"
    }
   ],
   "source": [
    "xml"
   ]
  },
  {
   "cell_type": "code",
   "execution_count": 106,
   "id": "2fe8858e-d212-4f93-919a-5f1919dcc367",
   "metadata": {},
   "outputs": [],
   "source": [
    "xml.to_xml('test.xml')"
   ]
  },
  {
   "cell_type": "code",
   "execution_count": 15,
   "id": "ceadb383-804e-4412-8a3f-134c2752c7d2",
   "metadata": {},
   "outputs": [],
   "source": [
    "def eosum(lst):\n",
    "  esum=0\n",
    "  osum=0\n",
    "  for i in lst:\n",
    "    if i%2==0:\n",
    "      esum=esum+i\n",
    "    else:\n",
    "      osum=osum+i\n",
    "  print(\"The even sum is {} and odd sum is {}\".format(esum,osum)) \n",
    "\n",
    "\n"
   ]
  },
  {
   "cell_type": "code",
   "execution_count": 16,
   "id": "45ad8db5-628e-4520-bcc5-e05fe338b1c7",
   "metadata": {},
   "outputs": [
    {
     "name": "stdout",
     "output_type": "stream",
     "text": [
      "The even sum is 6 and odd sum is 9\n"
     ]
    }
   ],
   "source": [
    "eosum([1,2,3,4,5])"
   ]
  },
  {
   "cell_type": "markdown",
   "id": "b282dbdc-8745-4ee9-af76-d6b4631c55de",
   "metadata": {},
   "source": [
    "# positional and keyword arguments"
   ]
  },
  {
   "cell_type": "code",
   "execution_count": 20,
   "id": "e3883028-d950-4d14-b50c-57540398b97d",
   "metadata": {},
   "outputs": [],
   "source": [
    "def check(*args,**kwargs):\n",
    "    print(args)\n",
    "    print(kwargs)"
   ]
  },
  {
   "cell_type": "code",
   "execution_count": 21,
   "id": "205a934d-02c3-4b5e-9531-5119f97440c3",
   "metadata": {},
   "outputs": [
    {
     "name": "stdout",
     "output_type": "stream",
     "text": [
      "('sworaj', 'khadka', 'secy')\n",
      "{'age': 19, 'dob': 2005}\n"
     ]
    }
   ],
   "source": [
    "check(\"sworaj\",\"khadka\",\"secy\",age=19,dob=2005)"
   ]
  },
  {
   "cell_type": "code",
   "execution_count": 23,
   "id": "ae70fa99-c3d2-417b-a27a-faee70dfcb17",
   "metadata": {},
   "outputs": [],
   "source": [
    "lst=list((\"sworaj\",\"khadka\",\"secy\"))\n",
    "dic={'age': 19, 'dob': 2005}"
   ]
  },
  {
   "cell_type": "code",
   "execution_count": 24,
   "id": "63658c9e-ef32-4c22-817e-c8d1550e3be8",
   "metadata": {},
   "outputs": [
    {
     "name": "stdout",
     "output_type": "stream",
     "text": [
      "(['sworaj', 'khadka', 'secy'], {'age': 19, 'dob': 2005})\n",
      "{}\n"
     ]
    }
   ],
   "source": [
    "check(lst,dic)"
   ]
  },
  {
   "cell_type": "code",
   "execution_count": 25,
   "id": "d2b7dfa6-1e5c-4a19-8a25-ba91e07f207d",
   "metadata": {},
   "outputs": [
    {
     "name": "stdout",
     "output_type": "stream",
     "text": [
      "('sworaj', 'khadka', 'secy')\n",
      "{'age': 19, 'dob': 2005}\n"
     ]
    }
   ],
   "source": [
    "check(*lst,**dic)"
   ]
  },
  {
   "cell_type": "markdown",
   "id": "cac75108-3f9a-46ed-a94a-77f422c7d1c2",
   "metadata": {},
   "source": [
    "# Classses and OOPS begins now"
   ]
  },
  {
   "cell_type": "code",
   "execution_count": 32,
   "id": "f6e28266-2f66-4719-af39-5d602be5d22d",
   "metadata": {},
   "outputs": [],
   "source": [
    "class Car:\n",
    "    def __init__(self,name,brand,price):\n",
    "        self.name=name\n",
    "        self.brand=brand\n",
    "        self.price=price\n",
    "    def loc(self,loc):\n",
    "        print(\"The {} car is available on {}\".format(self.name,loc))"
   ]
  },
  {
   "cell_type": "code",
   "execution_count": 33,
   "id": "cce2ca64-55d0-4156-807b-98a36df95ff3",
   "metadata": {},
   "outputs": [],
   "source": [
    "car1=Car(\"gt3\",\"Porsche\",\"$2M\")"
   ]
  },
  {
   "cell_type": "code",
   "execution_count": 34,
   "id": "8da77f8a-0eb2-4699-8215-86fdaaed25e0",
   "metadata": {},
   "outputs": [
    {
     "name": "stdout",
     "output_type": "stream",
     "text": [
      "<__main__.Car object at 0x000002384C16EB10>\n"
     ]
    }
   ],
   "source": [
    "print(car1)"
   ]
  },
  {
   "cell_type": "code",
   "execution_count": 38,
   "id": "7e9dab37-febb-4e54-a2ab-1af86a6922f6",
   "metadata": {},
   "outputs": [
    {
     "name": "stdout",
     "output_type": "stream",
     "text": [
      "The gt3 car is available on germany\n"
     ]
    }
   ],
   "source": [
    "car1.loc(\"germany\")"
   ]
  },
  {
   "cell_type": "code",
   "execution_count": 39,
   "id": "f3914b47-0041-4fe8-86d0-e74ae543ee19",
   "metadata": {},
   "outputs": [
    {
     "name": "stdout",
     "output_type": "stream",
     "text": [
      "['__class__', '__delattr__', '__dict__', '__dir__', '__doc__', '__eq__', '__format__', '__ge__', '__getattribute__', '__getstate__', '__gt__', '__hash__', '__init__', '__init_subclass__', '__le__', '__lt__', '__module__', '__ne__', '__new__', '__reduce__', '__reduce_ex__', '__repr__', '__setattr__', '__sizeof__', '__str__', '__subclasshook__', '__weakref__', 'brand', 'loc', 'name', 'price']\n"
     ]
    }
   ],
   "source": [
    "print(dir(car1))"
   ]
  },
  {
   "cell_type": "code",
   "execution_count": 28,
   "id": "7080acd3-303d-4686-9f5e-aa0f24369084",
   "metadata": {},
   "outputs": [],
   "source": [
    "class Car:\n",
    "    def __init__(self,name,brand,price):\n",
    "        self.name=name\n",
    "        self.brand=brand\n",
    "        self.price=price\n",
    "    def loc(self,loc):\n",
    "        print(\"The {} car is available on {}\".format(self.name,loc))\n",
    "class Scar(Car):\n",
    "    def __init__(self,name,brand,price,maxspeed):\n",
    "        super().__init__(name,brand,price)\n",
    "        self.maxspeed=maxspeed\n",
    "    def check(self, yn):\n",
    "        self.yn=yn\n",
    "        print(yn)\n",
    "        \n",
    "        \n",
    "        "
   ]
  },
  {
   "cell_type": "code",
   "execution_count": 29,
   "id": "48ce1ee4-5378-4d07-8275-30d703c64fb0",
   "metadata": {},
   "outputs": [],
   "source": [
    "audi=Scar(\"audi\",\"AUDI\",300,250)"
   ]
  },
  {
   "cell_type": "code",
   "execution_count": 30,
   "id": "d17cdc62-4d58-4b67-b571-050aab172629",
   "metadata": {},
   "outputs": [
    {
     "data": {
      "text/plain": [
       "250"
      ]
     },
     "execution_count": 30,
     "metadata": {},
     "output_type": "execute_result"
    }
   ],
   "source": [
    "audi.maxspeed"
   ]
  },
  {
   "cell_type": "code",
   "execution_count": 32,
   "id": "27018760-c900-4c05-bd1a-01edbfe2d248",
   "metadata": {},
   "outputs": [],
   "source": [
    "audi.price=500"
   ]
  },
  {
   "cell_type": "code",
   "execution_count": 33,
   "id": "6d0bc531-b770-4b09-91a7-3b498037a9a4",
   "metadata": {},
   "outputs": [
    {
     "data": {
      "text/plain": [
       "500"
      ]
     },
     "execution_count": 33,
     "metadata": {},
     "output_type": "execute_result"
    }
   ],
   "source": [
    "audi.price"
   ]
  },
  {
   "cell_type": "code",
   "execution_count": 46,
   "id": "35487418-37f5-4075-86f6-2352dad10a6b",
   "metadata": {},
   "outputs": [
    {
     "name": "stdout",
     "output_type": "stream",
     "text": [
      "The audi car is available on nepal\n"
     ]
    }
   ],
   "source": [
    "audi.loc(\"nepal\")"
   ]
  },
  {
   "cell_type": "code",
   "execution_count": 43,
   "id": "10762a9b-07ef-41f2-8188-75affe9a5b07",
   "metadata": {},
   "outputs": [
    {
     "data": {
      "text/plain": [
       "'AUDI'"
      ]
     },
     "execution_count": 43,
     "metadata": {},
     "output_type": "execute_result"
    }
   ],
   "source": [
    "audi.brand"
   ]
  },
  {
   "cell_type": "code",
   "execution_count": 47,
   "id": "d0238ab3-e0ff-4077-a3ca-9fc7142758fa",
   "metadata": {},
   "outputs": [
    {
     "name": "stdout",
     "output_type": "stream",
     "text": [
      "['__class__', '__delattr__', '__dict__', '__dir__', '__doc__', '__eq__', '__format__', '__ge__', '__getattribute__', '__getstate__', '__gt__', '__hash__', '__init__', '__init_subclass__', '__le__', '__lt__', '__module__', '__ne__', '__new__', '__reduce__', '__reduce_ex__', '__repr__', '__setattr__', '__sizeof__', '__str__', '__subclasshook__', '__weakref__', 'brand', 'check', 'loc', 'maxspeed', 'name', 'price']\n"
     ]
    }
   ],
   "source": [
    "print(dir(audi))"
   ]
  },
  {
   "cell_type": "code",
   "execution_count": 49,
   "id": "295e77c8-0a72-4295-8a4e-bacc87af48b0",
   "metadata": {},
   "outputs": [
    {
     "name": "stdout",
     "output_type": "stream",
     "text": [
      "yes\n"
     ]
    }
   ],
   "source": [
    "audi.check(\"yes\")"
   ]
  },
  {
   "cell_type": "markdown",
   "id": "4587d35e-fa63-4735-b98b-2a99a36772db",
   "metadata": {},
   "source": [
    "# Lambda function"
   ]
  },
  {
   "cell_type": "code",
   "execution_count": 4,
   "id": "630ab3ba-a308-4c2a-8264-8930138690f1",
   "metadata": {},
   "outputs": [
    {
     "data": {
      "text/plain": [
       "16"
      ]
     },
     "execution_count": 4,
     "metadata": {},
     "output_type": "execute_result"
    }
   ],
   "source": [
    "#convert a list of integers to their corresponding sqaure values \n",
    "sq=lambda lst:lst**2\n",
    "sq(4)"
   ]
  },
  {
   "cell_type": "code",
   "execution_count": 10,
   "id": "37462e9b-3e12-454a-9b8b-a63690b2c80f",
   "metadata": {},
   "outputs": [
    {
     "name": "stdout",
     "output_type": "stream",
     "text": [
      "[1, 4, 9, 16, 25, 36]\n"
     ]
    }
   ],
   "source": [
    "numbers=[1,2,3,4,5,6]\n",
    "square= list(map(lambda x:x**2,numbers))\n",
    "print(square)"
   ]
  },
  {
   "cell_type": "code",
   "execution_count": 13,
   "id": "485578ad-7d70-4578-910d-32680ba7bf38",
   "metadata": {},
   "outputs": [
    {
     "name": "stdout",
     "output_type": "stream",
     "text": [
      "[2, 4, 6]\n"
     ]
    }
   ],
   "source": [
    "#filter out even numbers from a list \n",
    "numbers=[1,2,3,4,5,6]\n",
    "find=list(filter(lambda x:x%2==0,numbers))\n",
    "print(find)"
   ]
  },
  {
   "cell_type": "code",
   "execution_count": 20,
   "id": "cb7f03b0-e3d5-4908-aa37-5544c4b042c1",
   "metadata": {},
   "outputs": [
    {
     "data": {
      "text/plain": [
       "['date', 'apple', 'banana', 'cherry', 'watermelomn']"
      ]
     },
     "execution_count": 20,
     "metadata": {},
     "output_type": "execute_result"
    }
   ],
   "source": [
    "# sort a list of strings based on their alphabetical characters and length:\n",
    "fruits=[\"apple\",\"banana\",\"cherry\",\"date\" ,\"watermelomn\"]\n",
    "sorted(fruits,key=lambda x:len(x))"
   ]
  },
  {
   "cell_type": "code",
   "execution_count": 21,
   "id": "163fd56b-2ebd-406c-a3f3-6354c0a8f21b",
   "metadata": {},
   "outputs": [
    {
     "data": {
      "text/plain": [
       "['apple', 'banana', 'cherry', 'date', 'watermelomn']"
      ]
     },
     "execution_count": 21,
     "metadata": {},
     "output_type": "execute_result"
    }
   ],
   "source": [
    "sorted(fruits)"
   ]
  },
  {
   "cell_type": "code",
   "execution_count": 23,
   "id": "794aa757-3886-4756-a1c9-a4c5847aaefd",
   "metadata": {},
   "outputs": [],
   "source": [
    "# complex examples\n",
    "# sort a list of dictionaries based on a specific key"
   ]
  },
  {
   "cell_type": "code",
   "execution_count": 24,
   "id": "48248ceb-c9e0-470a-9523-62cb1b2a62f7",
   "metadata": {},
   "outputs": [
    {
     "data": {
      "text/plain": [
       "'d'"
      ]
     },
     "execution_count": 24,
     "metadata": {},
     "output_type": "execute_result"
    }
   ],
   "source": [
    "# finding max value from a dictionary\n",
    "data={'a':50,'b':34,'c':67,'d':98}\n",
    "max(data,key=lambda x:data[x])"
   ]
  },
  {
   "cell_type": "code",
   "execution_count": 25,
   "id": "b52e4a25-5c89-42e9-a665-6438c82e8c92",
   "metadata": {},
   "outputs": [
    {
     "data": {
      "text/plain": [
       "'d'"
      ]
     },
     "execution_count": 25,
     "metadata": {},
     "output_type": "execute_result"
    }
   ],
   "source": [
    "data={'a':50,'b':34,'c':67,'d':98}\n",
    "max(data)"
   ]
  },
  {
   "cell_type": "markdown",
   "id": "0f32acd0-929d-4468-9d33-695b95335470",
   "metadata": {},
   "source": [
    "# dataclasses"
   ]
  },
  {
   "cell_type": "code",
   "execution_count": 37,
   "id": "c09eeeea-c112-44b4-9210-b7aaed819500",
   "metadata": {},
   "outputs": [],
   "source": [
    "#nested dataclasses\n",
    "from dataclasses import dataclass\n",
    "@dataclass\n",
    "class Address:\n",
    "    street:str\n",
    "    city:str\n",
    "    zip_code:int\n",
    "@dataclass\n",
    "class Person:\n",
    "    name:str\n",
    "    age:int\n",
    "    address:Address\n",
    "    "
   ]
  },
  {
   "cell_type": "code",
   "execution_count": 39,
   "id": "2a2b2948-aa19-4111-bfd3-bf4b899132cb",
   "metadata": {},
   "outputs": [],
   "source": [
    "Thegana=Address(\"123 commercial street\",\"Bangalore\",2354233)\n",
    "Manche=Person(\"ram\",23,Thegana)"
   ]
  },
  {
   "cell_type": "code",
   "execution_count": 40,
   "id": "9fd9ecf3-904d-49eb-87a8-ecf915dd3e80",
   "metadata": {},
   "outputs": [
    {
     "data": {
      "text/plain": [
       "Address(street='123 commercial street', city='Bangalore', zip_code=2354233)"
      ]
     },
     "execution_count": 40,
     "metadata": {},
     "output_type": "execute_result"
    }
   ],
   "source": [
    "Manche.address"
   ]
  },
  {
   "cell_type": "code",
   "execution_count": 41,
   "id": "82c67fed-e16a-4ba0-bff0-e91696c061c7",
   "metadata": {},
   "outputs": [],
   "source": [
    "@dataclass\n",
    "class Address:\n",
    "    street:str\n",
    "    city:str\n",
    "    zip_code:int\n",
    "@dataclass\n",
    "class Person(Address):\n",
    "    name:str\n",
    "    age:int\n",
    "    \n",
    "    "
   ]
  },
  {
   "cell_type": "code",
   "execution_count": 42,
   "id": "fe6a3f5c-d4b9-47db-b6c2-01dc65b162ee",
   "metadata": {},
   "outputs": [],
   "source": [
    "X=Address(\"123 street\",\"Bihar\",23423)\n"
   ]
  },
  {
   "cell_type": "code",
   "execution_count": 43,
   "id": "80502d00-cf80-417f-9950-d00f1356cd3f",
   "metadata": {},
   "outputs": [],
   "source": [
    "p=Person(\"123 street\",\"Bihar\",23432,\"ramey\",21)"
   ]
  },
  {
   "cell_type": "code",
   "execution_count": 44,
   "id": "20b4e792-c8eb-4b0b-bee6-83c07c85d64e",
   "metadata": {},
   "outputs": [
    {
     "data": {
      "text/plain": [
       "'Bihar'"
      ]
     },
     "execution_count": 44,
     "metadata": {},
     "output_type": "execute_result"
    }
   ],
   "source": [
    "p.city"
   ]
  },
  {
   "cell_type": "markdown",
   "id": "7b36681f-4bd4-4a91-9791-123ed962d620",
   "metadata": {},
   "source": [
    "# Encapsulation in python\n"
   ]
  },
  {
   "cell_type": "code",
   "execution_count": 46,
   "id": "d995313d-f881-4249-84c3-8b55cc647020",
   "metadata": {},
   "outputs": [],
   "source": [
    "# They are access modifiers and are of 3 types:\n",
    "#public,protected and private "
   ]
  },
  {
   "cell_type": "code",
   "execution_count": 61,
   "id": "5d8e45bb-5724-4ce6-93ae-60a971d367a7",
   "metadata": {},
   "outputs": [],
   "source": [
    "# Private modifiers\n",
    "class Person:\n",
    "    def __init__(self,name,age):\n",
    "        self.__name=name\n",
    "        self.__age=age\n",
    "    def person_info(self):\n",
    "        print(\"The name and age of person is {} {}\".format(self.__name,self.__age))\n",
    " "
   ]
  },
  {
   "cell_type": "code",
   "execution_count": 62,
   "id": "9e9cb0ef-c926-4bb2-904a-7174dda48371",
   "metadata": {},
   "outputs": [],
   "source": [
    "p1=Person(\"Swosexy\",19)"
   ]
  },
  {
   "cell_type": "code",
   "execution_count": 63,
   "id": "0f0b2788-19b1-4056-8b3b-c7bbf224ab59",
   "metadata": {},
   "outputs": [
    {
     "ename": "AttributeError",
     "evalue": "'Person' object has no attribute 'name'",
     "output_type": "error",
     "traceback": [
      "\u001b[1;31m---------------------------------------------------------------------------\u001b[0m",
      "\u001b[1;31mAttributeError\u001b[0m                            Traceback (most recent call last)",
      "Cell \u001b[1;32mIn[63], line 1\u001b[0m\n\u001b[1;32m----> 1\u001b[0m p1\u001b[38;5;241m.\u001b[39mname\n",
      "\u001b[1;31mAttributeError\u001b[0m: 'Person' object has no attribute 'name'"
     ]
    }
   ],
   "source": [
    "p1.name"
   ]
  },
  {
   "cell_type": "code",
   "execution_count": 64,
   "id": "ee8c7271-8d5a-436b-9ad4-0d4494d11664",
   "metadata": {},
   "outputs": [
    {
     "data": {
      "text/plain": [
       "['_Person__age',\n",
       " '_Person__name',\n",
       " '__class__',\n",
       " '__delattr__',\n",
       " '__dict__',\n",
       " '__dir__',\n",
       " '__doc__',\n",
       " '__eq__',\n",
       " '__format__',\n",
       " '__ge__',\n",
       " '__getattribute__',\n",
       " '__getstate__',\n",
       " '__gt__',\n",
       " '__hash__',\n",
       " '__init__',\n",
       " '__init_subclass__',\n",
       " '__le__',\n",
       " '__lt__',\n",
       " '__module__',\n",
       " '__ne__',\n",
       " '__new__',\n",
       " '__reduce__',\n",
       " '__reduce_ex__',\n",
       " '__repr__',\n",
       " '__setattr__',\n",
       " '__sizeof__',\n",
       " '__str__',\n",
       " '__subclasshook__',\n",
       " '__weakref__',\n",
       " 'person_info']"
      ]
     },
     "execution_count": 64,
     "metadata": {},
     "output_type": "execute_result"
    }
   ],
   "source": [
    "dir(p1)"
   ]
  },
  {
   "cell_type": "code",
   "execution_count": 65,
   "id": "6939cf5e-db08-486c-8dcf-9c64f262398c",
   "metadata": {},
   "outputs": [
    {
     "data": {
      "text/plain": [
       "'Swosexy'"
      ]
     },
     "execution_count": 65,
     "metadata": {},
     "output_type": "execute_result"
    }
   ],
   "source": [
    "p1._Person__name\n",
    "# don't do this since you're exposing the attributes of a private company "
   ]
  },
  {
   "cell_type": "code",
   "execution_count": 80,
   "id": "5721bc04-29b3-4bd4-b9a0-841df2070311",
   "metadata": {},
   "outputs": [
    {
     "name": "stdout",
     "output_type": "stream",
     "text": [
      "The name and age of person is Swosexy 19\n"
     ]
    }
   ],
   "source": [
    "#Hence to access the data you can simply do the method\n",
    "p1.person_info()"
   ]
  },
  {
   "cell_type": "code",
   "execution_count": 74,
   "id": "381149b4-b6d3-4f34-a092-47784ceba96b",
   "metadata": {},
   "outputs": [],
   "source": [
    "#protected encapsulation\n",
    "class Man:\n",
    "    def __init__(self,name,age):\n",
    "        self._name=name\n",
    "        self._age=age\n",
    "\n",
    "class Human(Man):\n",
    "    def __init__(self,name,age):\n",
    "        super().__init__(name,age)\n",
    "\n",
    "    def display_info(self):\n",
    "        print(f\"The name is {self._name}and age is {self._age}\")\n",
    "\n",
    "       \n",
    " "
   ]
  },
  {
   "cell_type": "code",
   "execution_count": 75,
   "id": "8691e0fa-619b-4b0d-bb46-e3a3df9cccb4",
   "metadata": {},
   "outputs": [],
   "source": [
    "M=Man(\"ram\",20)"
   ]
  },
  {
   "cell_type": "code",
   "execution_count": null,
   "id": "b9294088-bf5a-42a5-b798-15e0b7b6ecab",
   "metadata": {},
   "outputs": [],
   "source": []
  },
  {
   "cell_type": "code",
   "execution_count": 77,
   "id": "025acf37-8dc6-462d-857e-84076db9e758",
   "metadata": {},
   "outputs": [],
   "source": [
    "hum=Human(\"dawg\",34)\n"
   ]
  },
  {
   "cell_type": "code",
   "execution_count": 79,
   "id": "feb689d5-53bf-46e1-9ccd-b3f95e7ca23c",
   "metadata": {},
   "outputs": [
    {
     "name": "stdout",
     "output_type": "stream",
     "text": [
      "The name is dawgand age is 34\n"
     ]
    }
   ],
   "source": [
    "hum.display_info()"
   ]
  },
  {
   "cell_type": "code",
   "execution_count": null,
   "id": "e05cd73e-7240-47cc-8eff-3d5b82d25190",
   "metadata": {},
   "outputs": [],
   "source": []
  },
  {
   "cell_type": "code",
   "execution_count": null,
   "id": "6f1e0345-f516-4444-9abf-36f0ce4952fa",
   "metadata": {},
   "outputs": [],
   "source": []
  },
  {
   "cell_type": "code",
   "execution_count": null,
   "id": "772c08c6-cd3a-46f0-a1a9-35353e2300d7",
   "metadata": {},
   "outputs": [],
   "source": []
  },
  {
   "cell_type": "code",
   "execution_count": null,
   "id": "df0aed3b-5085-4229-8b85-b0c43c3772ee",
   "metadata": {},
   "outputs": [],
   "source": []
  }
 ],
 "metadata": {
  "kernelspec": {
   "display_name": "Python 3 (ipykernel)",
   "language": "python",
   "name": "python3"
  },
  "language_info": {
   "codemirror_mode": {
    "name": "ipython",
    "version": 3
   },
   "file_extension": ".py",
   "mimetype": "text/x-python",
   "name": "python",
   "nbconvert_exporter": "python",
   "pygments_lexer": "ipython3",
   "version": "3.11.7"
  }
 },
 "nbformat": 4,
 "nbformat_minor": 5
}
