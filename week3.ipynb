{
 "cells": [
  {
   "cell_type": "markdown",
   "id": "74da4bee-5389-408b-9dcf-0d23ed5117d2",
   "metadata": {},
   "source": [
    "# Python Assert "
   ]
  },
  {
   "cell_type": "raw",
   "id": "c75d090f-2e71-4d7e-862d-47ee08dd41ae",
   "metadata": {},
   "source": [
    "Python provides the asseert statement to check if given logical expression us true or false. Program execution proceeds only if the expression is true and raises the AssertionError when it is false.The following code shows the usage of the false statement"
   ]
  },
  {
   "cell_type": "code",
   "execution_count": 3,
   "id": "83adf315-ec1c-4e17-a214-8111cf2097fb",
   "metadata": {},
   "outputs": [
    {
     "ename": "AssertionError",
     "evalue": "",
     "output_type": "error",
     "traceback": [
      "\u001b[1;31m---------------------------------------------------------------------------\u001b[0m",
      "\u001b[1;31mAssertionError\u001b[0m                            Traceback (most recent call last)",
      "Cell \u001b[1;32mIn[3], line 3\u001b[0m\n\u001b[0;32m      1\u001b[0m \u001b[38;5;66;03m# KINDA Exception handling \u001b[39;00m\n\u001b[0;32m      2\u001b[0m num\u001b[38;5;241m=\u001b[39m\u001b[38;5;241m10\u001b[39m\n\u001b[1;32m----> 3\u001b[0m \u001b[38;5;28;01massert\u001b[39;00m num\u001b[38;5;241m>\u001b[39m\u001b[38;5;241m10\u001b[39m\n",
      "\u001b[1;31mAssertionError\u001b[0m: "
     ]
    }
   ],
   "source": [
    "# KINDA Exception handling \n",
    "num=10\n",
    "assert num>10"
   ]
  },
  {
   "cell_type": "code",
   "execution_count": 6,
   "id": "58019002-284a-46fb-9e87-16433a7c711f",
   "metadata": {},
   "outputs": [
    {
     "name": "stdin",
     "output_type": "stream",
     "text": [
      "Enter a number 56\n"
     ]
    },
    {
     "name": "stdout",
     "output_type": "stream",
     "text": [
      "The number is even\n"
     ]
    }
   ],
   "source": [
    "try:\n",
    "    x=int(input(\"Enter a number\"))\n",
    "    assert x %2==0\n",
    "    print(\"The number is even\")\n",
    "except AssertionError:\n",
    "    print(\"The number is odd sir\")"
   ]
  },
  {
   "cell_type": "markdown",
   "id": "03fa225b-eebb-4a36-9afd-c4d2fe7bdb40",
   "metadata": {},
   "source": [
    "# Iterators vs Generators "
   ]
  },
  {
   "cell_type": "code",
   "execution_count": 9,
   "id": "1694fb7f-9ccb-4c53-95bc-ba82743d5855",
   "metadata": {},
   "outputs": [],
   "source": [
    "\n",
    "def square(x):\n",
    "    for i in range(x): \n",
    "        return(i**2)"
   ]
  },
  {
   "cell_type": "code",
   "execution_count": 10,
   "id": "005a57c1-4ae5-4eca-8118-bb66a65e7ff0",
   "metadata": {},
   "outputs": [
    {
     "data": {
      "text/plain": [
       "0"
      ]
     },
     "execution_count": 10,
     "metadata": {},
     "output_type": "execute_result"
    }
   ],
   "source": [
    "square(3)"
   ]
  },
  {
   "cell_type": "raw",
   "id": "7c2dd033-7892-4f64-802e-2e086d2af65c",
   "metadata": {},
   "source": [
    "The function will always return only one value—the square of 0.The return statement exits the function as soon as it's encountered."
   ]
  },
  {
   "cell_type": "code",
   "execution_count": 11,
   "id": "6dfc6583-4318-42ef-abae-d85c62aa4338",
   "metadata": {},
   "outputs": [],
   "source": [
    "def square(x):\n",
    "    for i in range(x): \n",
    "        yield(i**2)"
   ]
  },
  {
   "cell_type": "code",
   "execution_count": 13,
   "id": "798f1e6f-1ef3-49f9-878a-65e06990c516",
   "metadata": {},
   "outputs": [
    {
     "data": {
      "text/plain": [
       "<generator object square at 0x000002C773FF0EE0>"
      ]
     },
     "execution_count": 13,
     "metadata": {},
     "output_type": "execute_result"
    }
   ],
   "source": [
    "square(4)"
   ]
  },
  {
   "cell_type": "raw",
   "id": "69b484dd-bc0e-45f4-a47f-cefdd9ad2411",
   "metadata": {},
   "source": [
    " Here, the answer would be an iterator and we can traverse the answer"
   ]
  },
  {
   "cell_type": "code",
   "execution_count": 14,
   "id": "a5e68f56-3118-47c7-b248-738b820d179c",
   "metadata": {},
   "outputs": [],
   "source": [
    "x=square(3)"
   ]
  },
  {
   "cell_type": "code",
   "execution_count": 15,
   "id": "d828fb85-8067-4782-89df-a44e1100a532",
   "metadata": {},
   "outputs": [
    {
     "data": {
      "text/plain": [
       "generator"
      ]
     },
     "execution_count": 15,
     "metadata": {},
     "output_type": "execute_result"
    }
   ],
   "source": [
    "type(x)"
   ]
  },
  {
   "cell_type": "code",
   "execution_count": 16,
   "id": "0af1b9c2-1c43-4c66-a0b0-b6925bf736bb",
   "metadata": {},
   "outputs": [
    {
     "data": {
      "text/plain": [
       "0"
      ]
     },
     "execution_count": 16,
     "metadata": {},
     "output_type": "execute_result"
    }
   ],
   "source": [
    "next(x)"
   ]
  },
  {
   "cell_type": "code",
   "execution_count": 17,
   "id": "58fcc9b6-1b61-4315-95b1-c2c3c5e0d9e4",
   "metadata": {},
   "outputs": [
    {
     "data": {
      "text/plain": [
       "1"
      ]
     },
     "execution_count": 17,
     "metadata": {},
     "output_type": "execute_result"
    }
   ],
   "source": [
    "next(x)"
   ]
  },
  {
   "cell_type": "raw",
   "id": "a4d3a5e9-c2f0-4a35-a08d-895af68507ee",
   "metadata": {},
   "source": [
    "# generators in python is created with a function by using yield keyword and it helps us to write fast and compact code\n",
    "Python iterator is much more memory efficient "
   ]
  },
  {
   "cell_type": "markdown",
   "id": "13a00375-4ebe-41e7-88c8-8e57aff1aa28",
   "metadata": {},
   "source": [
    "# Pyhton Decorators"
   ]
  },
  {
   "cell_type": "code",
   "execution_count": 20,
   "id": "5669b6c6-4f43-4445-9bbd-961f47f6316f",
   "metadata": {},
   "outputs": [],
   "source": [
    "### Closures\n",
    "def main_welcome(msg):\n",
    "   \n",
    "    def sub_welcome_class():\n",
    "        print(\"Welcome To Swo Durbar\")\n",
    "        print(msg)\n",
    "        print(\"kindly Piss Off\")\n",
    "    return sub_welcome_class()"
   ]
  },
  {
   "cell_type": "code",
   "execution_count": 21,
   "id": "2a852d28-d29a-40da-86c2-8416a97a8521",
   "metadata": {},
   "outputs": [
    {
     "name": "stdout",
     "output_type": "stream",
     "text": [
      "Welcome To Swo Durbar\n",
      "Puta\n",
      "kindly Piss Off\n"
     ]
    }
   ],
   "source": [
    "main_welcome(\"Puta\")"
   ]
  },
  {
   "cell_type": "code",
   "execution_count": 22,
   "id": "f44e4c38-9a48-4124-91f4-6fc955205cc8",
   "metadata": {},
   "outputs": [],
   "source": [
    "### Closures & initial Decorators\n",
    "def main_welcome(func):\n",
    "   \n",
    "    def sub_welcome_class():\n",
    "        print(\"Welcome To ktaho\")\n",
    "        print(func([1,2,3,4,5,6]))\n",
    "        print(\"Please fys\")\n",
    "    return sub_welcome_class()\n"
   ]
  },
  {
   "cell_type": "code",
   "execution_count": 23,
   "id": "efcdd29b-fa63-4a73-9ae2-460cf58bf54c",
   "metadata": {},
   "outputs": [
    {
     "name": "stdout",
     "output_type": "stream",
     "text": [
      "Welcome To ktaho\n",
      "6\n",
      "Please fys\n"
     ]
    }
   ],
   "source": [
    "main_welcome(len)"
   ]
  },
  {
   "cell_type": "code",
   "execution_count": 45,
   "id": "33e15ebf-3fdd-483b-8861-ace9f13c6719",
   "metadata": {},
   "outputs": [],
   "source": [
    "### Decorators\n",
    "def main_welcome(func):\n",
    "   \n",
    "    def sub_welcome_class():\n",
    "        print(\"Welcome To Swosexy\")\n",
    "        func()\n",
    "        print(\"Who cares\")\n",
    "    return sub_welcome_class()"
   ]
  },
  {
   "cell_type": "code",
   "execution_count": 46,
   "id": "f8291b13-18d8-4ed5-8bc6-ba038306faec",
   "metadata": {},
   "outputs": [
    {
     "name": "stdout",
     "output_type": "stream",
     "text": [
      "Welcome To Swosexy\n",
      "Mia San Mia\n",
      "Who cares\n"
     ]
    }
   ],
   "source": [
    "@main_welcome\n",
    "def channel_name():\n",
    "    \n",
    "    print(\"Mia San Mia\")"
   ]
  },
  {
   "cell_type": "code",
   "execution_count": null,
   "id": "0f01c501-127c-4ec7-984b-20921acf3137",
   "metadata": {},
   "outputs": [],
   "source": []
  },
  {
   "cell_type": "code",
   "execution_count": 36,
   "id": "c39b3f1d-68d1-4b91-a6f1-93ba07f16567",
   "metadata": {},
   "outputs": [],
   "source": [
    "def happy():\n",
    "    return \" I am happy\""
   ]
  },
  {
   "cell_type": "code",
   "execution_count": 43,
   "id": "ae85cde5-ab73-4d5f-8f78-0b9a0bf9127c",
   "metadata": {},
   "outputs": [],
   "source": [
    "z=happy()"
   ]
  },
  {
   "cell_type": "code",
   "execution_count": 44,
   "id": "68f49ac2-1874-458b-b743-81883a88bd9d",
   "metadata": {},
   "outputs": [
    {
     "name": "stdout",
     "output_type": "stream",
     "text": [
      " I am happy\n"
     ]
    }
   ],
   "source": [
    "print(z)"
   ]
  },
  {
   "cell_type": "code",
   "execution_count": 49,
   "id": "dee194f0-cb3c-4708-aba1-63af59369cf2",
   "metadata": {},
   "outputs": [
    {
     "data": {
      "text/plain": [
       "' I am happy'"
      ]
     },
     "execution_count": 49,
     "metadata": {},
     "output_type": "execute_result"
    }
   ],
   "source": [
    "happy()"
   ]
  },
  {
   "cell_type": "code",
   "execution_count": 40,
   "id": "26a0db48-5318-4fca-9649-01669aa44ecf",
   "metadata": {},
   "outputs": [],
   "source": [
    "def add_with_print(a, b):\n",
    "    print(a + b)"
   ]
  },
  {
   "cell_type": "code",
   "execution_count": 42,
   "id": "c1c6e3a5-3c60-48f8-b470-e9cdd9932f25",
   "metadata": {},
   "outputs": [
    {
     "name": "stdout",
     "output_type": "stream",
     "text": [
      "7\n",
      "answer is None\n"
     ]
    }
   ],
   "source": [
    "x=add_with_print(3,4)\n",
    "print(\"answer is\",x)"
   ]
  },
  {
   "cell_type": "code",
   "execution_count": 50,
   "id": "ad84ed69-3f27-4fed-9b7e-c2c2b2d18f88",
   "metadata": {},
   "outputs": [],
   "source": [
    "def add_with_print(a, b):\n",
    "    return(a + b)"
   ]
  },
  {
   "cell_type": "code",
   "execution_count": 51,
   "id": "214984a4-2421-4699-8c41-6a63074742b7",
   "metadata": {},
   "outputs": [
    {
     "name": "stdout",
     "output_type": "stream",
     "text": [
      "7\n"
     ]
    }
   ],
   "source": [
    "add_with_print(3,4)\n"
   ]
  },
  {
   "cell_type": "code",
   "execution_count": 52,
   "id": "2fe3d0fe-c631-463f-8607-24860cd4659e",
   "metadata": {},
   "outputs": [],
   "source": [
    "# is vs =="
   ]
  },
  {
   "cell_type": "code",
   "execution_count": 57,
   "id": "0083c577-b723-4449-917e-2cad105588fb",
   "metadata": {},
   "outputs": [],
   "source": [
    "lst1=['a','b','c','s']\n",
    "lst2=lst1 # the same memory of lst1 is being referred to lst2"
   ]
  },
  {
   "cell_type": "code",
   "execution_count": 58,
   "id": "7d93284f-2de1-43a1-880d-233e47c51781",
   "metadata": {},
   "outputs": [
    {
     "data": {
      "text/plain": [
       "True"
      ]
     },
     "execution_count": 58,
     "metadata": {},
     "output_type": "execute_result"
    }
   ],
   "source": [
    "lst2 is lst1"
   ]
  },
  {
   "cell_type": "code",
   "execution_count": 59,
   "id": "a79c8154-677c-4f40-9912-397e193d3e0f",
   "metadata": {},
   "outputs": [],
   "source": [
    "lst1=['a','b','c','s']\n",
    "lst2=lst1.copy() # now it will create a diff memory location for lst2"
   ]
  },
  {
   "cell_type": "code",
   "execution_count": 60,
   "id": "084d875d-82b3-409f-ac91-5141e74d321a",
   "metadata": {},
   "outputs": [
    {
     "data": {
      "text/plain": [
       "False"
      ]
     },
     "execution_count": 60,
     "metadata": {},
     "output_type": "execute_result"
    }
   ],
   "source": [
    " lst2 is lst1"
   ]
  },
  {
   "cell_type": "markdown",
   "id": "21fab709-0825-42a6-b72a-35d83cdfa9ca",
   "metadata": {},
   "source": [
    "# Python Projects begin here"
   ]
  },
  {
   "cell_type": "code",
   "execution_count": 3,
   "id": "7c798638-18fe-4006-80b1-016ddc7a55b7",
   "metadata": {},
   "outputs": [
    {
     "name": "stdin",
     "output_type": "stream",
     "text": [
      "enter a string khusi is my wife\n"
     ]
    },
    {
     "name": "stdout",
     "output_type": "stream",
     "text": [
      "KIMW\n"
     ]
    }
   ],
   "source": [
    "str=input(\"enter a string\")\n",
    "text= str.split()\n",
    "a=''\n",
    "for i in text:\n",
    "    a=a+i[0].upper()\n",
    "print(a)"
   ]
  },
  {
   "cell_type": "code",
   "execution_count": 8,
   "id": "1b7d96ab-5ad5-446d-b8b7-ae061c0bca26",
   "metadata": {},
   "outputs": [
    {
     "name": "stdout",
     "output_type": "stream",
     "text": [
      "2025-01-10 13:56:36.121910\n"
     ]
    }
   ],
   "source": [
    "import datetime\n",
    "\n",
    "x = datetime.datetime.now()\n",
    "print(x)"
   ]
  },
  {
   "cell_type": "code",
   "execution_count": null,
   "id": "e7ba0993-49a7-4d20-a6b0-a88354823294",
   "metadata": {},
   "outputs": [],
   "source": []
  },
  {
   "cell_type": "code",
   "execution_count": null,
   "id": "845b3e90-05f0-4a62-879b-543e3026760b",
   "metadata": {},
   "outputs": [],
   "source": []
  },
  {
   "cell_type": "code",
   "execution_count": null,
   "id": "47798b17-213a-44df-a5c9-20a5abb6608f",
   "metadata": {},
   "outputs": [],
   "source": []
  },
  {
   "cell_type": "code",
   "execution_count": null,
   "id": "76eb98f2-9572-4eea-ad55-d850ebe521c0",
   "metadata": {},
   "outputs": [],
   "source": []
  },
  {
   "cell_type": "code",
   "execution_count": null,
   "id": "d7a4634c-9aa9-4867-89d8-b055b3482f70",
   "metadata": {},
   "outputs": [],
   "source": []
  },
  {
   "cell_type": "code",
   "execution_count": null,
   "id": "cf05b7e7-fa46-432e-84ba-41469befa645",
   "metadata": {},
   "outputs": [],
   "source": []
  },
  {
   "cell_type": "code",
   "execution_count": null,
   "id": "40a1f205-9830-4925-a3e0-fbbe11120a07",
   "metadata": {},
   "outputs": [],
   "source": []
  },
  {
   "cell_type": "code",
   "execution_count": null,
   "id": "02d847a6-d278-463b-967c-f9f0931a9b95",
   "metadata": {},
   "outputs": [],
   "source": []
  }
 ],
 "metadata": {
  "kernelspec": {
   "display_name": "Python 3 (ipykernel)",
   "language": "python",
   "name": "python3"
  },
  "language_info": {
   "codemirror_mode": {
    "name": "ipython",
    "version": 3
   },
   "file_extension": ".py",
   "mimetype": "text/x-python",
   "name": "python",
   "nbconvert_exporter": "python",
   "pygments_lexer": "ipython3",
   "version": "3.11.7"
  }
 },
 "nbformat": 4,
 "nbformat_minor": 5
}
